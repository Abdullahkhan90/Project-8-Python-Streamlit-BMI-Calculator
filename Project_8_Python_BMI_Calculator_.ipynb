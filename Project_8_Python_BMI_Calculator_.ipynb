{
  "nbformat": 4,
  "nbformat_minor": 0,
  "metadata": {
    "colab": {
      "provenance": [],
      "authorship_tag": "ABX9TyNpdkk33A/itk11XaKC1Z66",
      "include_colab_link": true
    },
    "kernelspec": {
      "name": "python3",
      "display_name": "Python 3"
    },
    "language_info": {
      "name": "python"
    },
    "widgets": {
      "application/vnd.jupyter.widget-state+json": {
        "9a8b1e5db9db43ee81a3bc1190c6ca0e": {
          "model_module": "@jupyter-widgets/controls",
          "model_name": "FloatTextModel",
          "model_module_version": "1.5.0",
          "state": {
            "_dom_classes": [],
            "_model_module": "@jupyter-widgets/controls",
            "_model_module_version": "1.5.0",
            "_model_name": "FloatTextModel",
            "_view_count": null,
            "_view_module": "@jupyter-widgets/controls",
            "_view_module_version": "1.5.0",
            "_view_name": "FloatTextView",
            "continuous_update": false,
            "description": "Weight (kg):",
            "description_tooltip": null,
            "disabled": false,
            "layout": "IPY_MODEL_e53726d2021242188f222dddfbe4efa3",
            "step": 0.1,
            "style": "IPY_MODEL_d5f61e9471584021b8e80d794f652a2f",
            "value": 20
          }
        },
        "e53726d2021242188f222dddfbe4efa3": {
          "model_module": "@jupyter-widgets/base",
          "model_name": "LayoutModel",
          "model_module_version": "1.2.0",
          "state": {
            "_model_module": "@jupyter-widgets/base",
            "_model_module_version": "1.2.0",
            "_model_name": "LayoutModel",
            "_view_count": null,
            "_view_module": "@jupyter-widgets/base",
            "_view_module_version": "1.2.0",
            "_view_name": "LayoutView",
            "align_content": null,
            "align_items": null,
            "align_self": null,
            "border": null,
            "bottom": null,
            "display": null,
            "flex": null,
            "flex_flow": null,
            "grid_area": null,
            "grid_auto_columns": null,
            "grid_auto_flow": null,
            "grid_auto_rows": null,
            "grid_column": null,
            "grid_gap": null,
            "grid_row": null,
            "grid_template_areas": null,
            "grid_template_columns": null,
            "grid_template_rows": null,
            "height": null,
            "justify_content": null,
            "justify_items": null,
            "left": null,
            "margin": null,
            "max_height": null,
            "max_width": null,
            "min_height": null,
            "min_width": null,
            "object_fit": null,
            "object_position": null,
            "order": null,
            "overflow": null,
            "overflow_x": null,
            "overflow_y": null,
            "padding": null,
            "right": null,
            "top": null,
            "visibility": null,
            "width": null
          }
        },
        "d5f61e9471584021b8e80d794f652a2f": {
          "model_module": "@jupyter-widgets/controls",
          "model_name": "DescriptionStyleModel",
          "model_module_version": "1.5.0",
          "state": {
            "_model_module": "@jupyter-widgets/controls",
            "_model_module_version": "1.5.0",
            "_model_name": "DescriptionStyleModel",
            "_view_count": null,
            "_view_module": "@jupyter-widgets/base",
            "_view_module_version": "1.2.0",
            "_view_name": "StyleView",
            "description_width": "initial"
          }
        },
        "76ec3046b11b43629c13607019083f41": {
          "model_module": "@jupyter-widgets/controls",
          "model_name": "FloatTextModel",
          "model_module_version": "1.5.0",
          "state": {
            "_dom_classes": [],
            "_model_module": "@jupyter-widgets/controls",
            "_model_module_version": "1.5.0",
            "_model_name": "FloatTextModel",
            "_view_count": null,
            "_view_module": "@jupyter-widgets/controls",
            "_view_module_version": "1.5.0",
            "_view_name": "FloatTextView",
            "continuous_update": false,
            "description": "Height (m):",
            "description_tooltip": null,
            "disabled": false,
            "layout": "IPY_MODEL_44046616b5cd4535871d3962adf7d7b1",
            "step": 0.01,
            "style": "IPY_MODEL_19ddbed2ab9a40b99621a70af6bc0bac",
            "value": 1.5
          }
        },
        "44046616b5cd4535871d3962adf7d7b1": {
          "model_module": "@jupyter-widgets/base",
          "model_name": "LayoutModel",
          "model_module_version": "1.2.0",
          "state": {
            "_model_module": "@jupyter-widgets/base",
            "_model_module_version": "1.2.0",
            "_model_name": "LayoutModel",
            "_view_count": null,
            "_view_module": "@jupyter-widgets/base",
            "_view_module_version": "1.2.0",
            "_view_name": "LayoutView",
            "align_content": null,
            "align_items": null,
            "align_self": null,
            "border": null,
            "bottom": null,
            "display": null,
            "flex": null,
            "flex_flow": null,
            "grid_area": null,
            "grid_auto_columns": null,
            "grid_auto_flow": null,
            "grid_auto_rows": null,
            "grid_column": null,
            "grid_gap": null,
            "grid_row": null,
            "grid_template_areas": null,
            "grid_template_columns": null,
            "grid_template_rows": null,
            "height": null,
            "justify_content": null,
            "justify_items": null,
            "left": null,
            "margin": null,
            "max_height": null,
            "max_width": null,
            "min_height": null,
            "min_width": null,
            "object_fit": null,
            "object_position": null,
            "order": null,
            "overflow": null,
            "overflow_x": null,
            "overflow_y": null,
            "padding": null,
            "right": null,
            "top": null,
            "visibility": null,
            "width": null
          }
        },
        "19ddbed2ab9a40b99621a70af6bc0bac": {
          "model_module": "@jupyter-widgets/controls",
          "model_name": "DescriptionStyleModel",
          "model_module_version": "1.5.0",
          "state": {
            "_model_module": "@jupyter-widgets/controls",
            "_model_module_version": "1.5.0",
            "_model_name": "DescriptionStyleModel",
            "_view_count": null,
            "_view_module": "@jupyter-widgets/base",
            "_view_module_version": "1.2.0",
            "_view_name": "StyleView",
            "description_width": "initial"
          }
        },
        "35ab67f566f64d7b948da518bd8e6d41": {
          "model_module": "@jupyter-widgets/output",
          "model_name": "OutputModel",
          "model_module_version": "1.0.0",
          "state": {
            "_dom_classes": [],
            "_model_module": "@jupyter-widgets/output",
            "_model_module_version": "1.0.0",
            "_model_name": "OutputModel",
            "_view_count": null,
            "_view_module": "@jupyter-widgets/output",
            "_view_module_version": "1.0.0",
            "_view_name": "OutputView",
            "layout": "IPY_MODEL_143c0cd3d0224c08bedfb7ed5d685167",
            "msg_id": "",
            "outputs": [
              {
                "output_type": "stream",
                "name": "stdout",
                "text": [
                  "Your BMI is: 6.86 - You are underweight\n"
                ]
              },
              {
                "output_type": "stream",
                "name": "stdout",
                "text": [
                  "Your BMI is: 5.25 - You are underweight\n"
                ]
              },
              {
                "output_type": "stream",
                "name": "stdout",
                "text": [
                  "Your BMI is: 19.25 - You have normal weight\n"
                ]
              },
              {
                "output_type": "stream",
                "name": "stdout",
                "text": [
                  "Your BMI is: 0.12 - You are underweight\n"
                ]
              },
              {
                "output_type": "stream",
                "name": "stdout",
                "text": [
                  "Your BMI is: 19.25 - You have normal weight\n"
                ]
              },
              {
                "output_type": "stream",
                "name": "stdout",
                "text": [
                  "Your BMI is: 5.00 - You are underweight\n"
                ]
              },
              {
                "output_type": "stream",
                "name": "stdout",
                "text": [
                  "Your BMI is: 8.89 - You are underweight\n"
                ]
              }
            ]
          }
        },
        "143c0cd3d0224c08bedfb7ed5d685167": {
          "model_module": "@jupyter-widgets/base",
          "model_name": "LayoutModel",
          "model_module_version": "1.2.0",
          "state": {
            "_model_module": "@jupyter-widgets/base",
            "_model_module_version": "1.2.0",
            "_model_name": "LayoutModel",
            "_view_count": null,
            "_view_module": "@jupyter-widgets/base",
            "_view_module_version": "1.2.0",
            "_view_name": "LayoutView",
            "align_content": null,
            "align_items": null,
            "align_self": null,
            "border": null,
            "bottom": null,
            "display": null,
            "flex": null,
            "flex_flow": null,
            "grid_area": null,
            "grid_auto_columns": null,
            "grid_auto_flow": null,
            "grid_auto_rows": null,
            "grid_column": null,
            "grid_gap": null,
            "grid_row": null,
            "grid_template_areas": null,
            "grid_template_columns": null,
            "grid_template_rows": null,
            "height": null,
            "justify_content": null,
            "justify_items": null,
            "left": null,
            "margin": null,
            "max_height": null,
            "max_width": null,
            "min_height": null,
            "min_width": null,
            "object_fit": null,
            "object_position": null,
            "order": null,
            "overflow": null,
            "overflow_x": null,
            "overflow_y": null,
            "padding": null,
            "right": null,
            "top": null,
            "visibility": null,
            "width": null
          }
        }
      }
    }
  },
  "cells": [
    {
      "cell_type": "markdown",
      "metadata": {
        "id": "view-in-github",
        "colab_type": "text"
      },
      "source": [
        "<a href=\"https://colab.research.google.com/github/Abdullahkhan90/Project-8-Python-Streamlit-BMI-Calculator/blob/main/Project_8_Python_BMI_Calculator_.ipynb\" target=\"_parent\"><img src=\"https://colab.research.google.com/assets/colab-badge.svg\" alt=\"Open In Colab\"/></a>"
      ]
    },
    {
      "cell_type": "markdown",
      "source": [
        "## ***`Project-8-Python Streamlit BMI Calculator`***"
      ],
      "metadata": {
        "id": "RCgWX8REtESB"
      }
    },
    {
      "cell_type": "code",
      "source": [
        "import ipywidgets as widgets\n",
        "from IPython.display import display\n",
        "\n",
        "weight_input = widgets.FloatText(\n",
        "    value=70.0,\n",
        "    description='Weight (kg):',\n",
        "    step=0.1,\n",
        "    style={'description_width': 'initial'}\n",
        ")\n",
        "\n",
        "height_input = widgets.FloatText(\n",
        "    value=1.75,\n",
        "    description='Height (m):',\n",
        "    step=0.01,\n",
        "    style={'description_width': 'initial'}\n",
        ")\n",
        "\n",
        "# Output widget to display BMI result\n",
        "output = widgets.Output()\n",
        "\n",
        "def calculate_bmi(weight, height):\n",
        "    # Calculate BMI\n",
        "    if height > 0 and weight > 0:\n",
        "        bmi = weight / (height ** 2)\n",
        "        with output:\n",
        "            if bmi < 18.5:\n",
        "                print(f\"Your BMI is: {bmi:.2f} - You are underweight\")\n",
        "            elif 18.5 <= bmi < 24.9:\n",
        "                print(f\"Your BMI is: {bmi:.2f} - You have normal weight\")\n",
        "            elif 25 <= bmi < 29.9:\n",
        "                print(f\"Your BMI is: {bmi:.2f} - You are overweight\")\n",
        "            else:\n",
        "                print(f\"Your BMI is: {bmi:.2f} - You are obese\")\n",
        "    else:\n",
        "        with output:\n",
        "            print(\"Please enter valid height and weight\")\n",
        "\n",
        "widgets.interactive(calculate_bmi, weight=weight_input, height=height_input)\n",
        "\n",
        "# Display the input fields and output area\n",
        "display(weight_input, height_input, output)\n"
      ],
      "metadata": {
        "colab": {
          "base_uri": "https://localhost:8080/",
          "height": 208,
          "referenced_widgets": [
            "9a8b1e5db9db43ee81a3bc1190c6ca0e",
            "e53726d2021242188f222dddfbe4efa3",
            "d5f61e9471584021b8e80d794f652a2f",
            "76ec3046b11b43629c13607019083f41",
            "44046616b5cd4535871d3962adf7d7b1",
            "19ddbed2ab9a40b99621a70af6bc0bac",
            "35ab67f566f64d7b948da518bd8e6d41",
            "143c0cd3d0224c08bedfb7ed5d685167"
          ]
        },
        "id": "BzgqRThFPEN6",
        "outputId": "543c4aa2-6375-4fe5-e468-865e9b9fa34f"
      },
      "execution_count": 21,
      "outputs": [
        {
          "output_type": "display_data",
          "data": {
            "text/plain": [
              "FloatText(value=70.0, description='Weight (kg):', step=0.1, style=DescriptionStyle(description_width='initial'…"
            ],
            "application/vnd.jupyter.widget-view+json": {
              "version_major": 2,
              "version_minor": 0,
              "model_id": "9a8b1e5db9db43ee81a3bc1190c6ca0e"
            }
          },
          "metadata": {}
        },
        {
          "output_type": "display_data",
          "data": {
            "text/plain": [
              "FloatText(value=1.75, description='Height (m):', step=0.01, style=DescriptionStyle(description_width='initial'…"
            ],
            "application/vnd.jupyter.widget-view+json": {
              "version_major": 2,
              "version_minor": 0,
              "model_id": "76ec3046b11b43629c13607019083f41"
            }
          },
          "metadata": {}
        },
        {
          "output_type": "display_data",
          "data": {
            "text/plain": [
              "Output()"
            ],
            "application/vnd.jupyter.widget-view+json": {
              "version_major": 2,
              "version_minor": 0,
              "model_id": "35ab67f566f64d7b948da518bd8e6d41"
            }
          },
          "metadata": {}
        }
      ]
    }
  ]
}